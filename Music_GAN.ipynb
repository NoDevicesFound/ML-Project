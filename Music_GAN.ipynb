{
 "cells": [
  {
   "cell_type": "markdown",
   "metadata": {},
   "source": [
    "# Music Generator\n",
    "## COMP 432 Fall 2020\n",
    "## Natalia Whiteley 40044353 and Michael Naccache 27..."
   ]
  },
  {
   "cell_type": "code",
   "execution_count": 4,
   "metadata": {},
   "outputs": [],
   "source": [
    "import os\n",
    "import numpy as np\n",
    "import matplotlib.pyplot as plt\n",
    "import seaborn as sns\n",
    "from music21 import *"
   ]
  },
  {
   "cell_type": "code",
   "execution_count": 5,
   "metadata": {},
   "outputs": [],
   "source": [
    "# instruments to include from the midi file\n",
    "INSTRUMENTS = [instrument.Piano, instrument.Bass, instrument.Guitar, instrument.Saxophone, instrument.Trumpet]\n",
    "VERBOSE = True"
   ]
  },
  {
   "cell_type": "markdown",
   "metadata": {},
   "source": [
    "## Part 1: Import Dataset"
   ]
  },
  {
   "source": [
    "Helper functions for parsing midi files and extracting files from the folders"
   ],
   "cell_type": "markdown",
   "metadata": {}
  },
  {
   "cell_type": "code",
   "execution_count": 6,
   "metadata": {
    "tags": []
   },
   "outputs": [],
   "source": [
    "# given the name of a midi file, returns a 2D array of notes per instrument\n",
    "def import_midi(midi_file, verbose=VERBOSE):\n",
    "\n",
    "    # parse midi file\n",
    "    midi = converter.parse(midi_file)\n",
    "  \n",
    "    # seperate based on instrument\n",
    "    midi_parts = instrument.partitionByInstrument(midi)\n",
    "\n",
    "    notes = {}\n",
    "    notes_to_parse = []\n",
    "\n",
    "    for part in midi_parts.parts:\n",
    "        # only use instruments we want\n",
    "        if any(isinstance(part.getInstrument(), x) for x in INSTRUMENTS):\n",
    "            notes[str(part.getInstrument().bestName())] = []\n",
    "            notes_to_parse = part.recurse()\n",
    "\n",
    "            # finding whether a particular element is note or a chord\n",
    "            for element in notes_to_parse: \n",
    "                #note\n",
    "                if isinstance(element, note.Note):\n",
    "                    notes[str(part.getInstrument().bestName())].append(str(element.pitch))\n",
    "                \n",
    "                #chord\n",
    "                elif isinstance(element, chord.Chord):\n",
    "                    notes[str(part.getInstrument().bestName())].append('.'.join(str(n) for n in element.normalOrder))\n",
    "\n",
    "    # remove any empty instruments\n",
    "    notes = {k: np.array(v) for k, v in notes.items() if v}\n",
    "\n",
    "    if verbose:\n",
    "        print('Finished importing {}.'.format(midi_file))\n",
    "\n",
    "    return notes\n",
    "\n",
    "# gets the path and label for every file in a directory and its sub-directories\n",
    "def get_all_files_in_dir(dir_path, verbose=VERBOSE):\n",
    "    midis = []\n",
    "    genres = []\n",
    "    for root, dirs, files in os.walk(dir_path):\n",
    "        genre = os.path.basename(root)\n",
    "\n",
    "        for file in files:\n",
    "            if file.endswith('.mid'):\n",
    "                midis.append(os.path.join(root, file))\n",
    "                genres.append(genre)\n",
    "        \n",
    "        if verbose:\n",
    "            print('Loaded all {} midi files.'.format(genre))\n",
    "\n",
    "    return midis, genres\n"
   ]
  },
  {
   "cell_type": "code",
   "execution_count": 7,
   "metadata": {
    "tags": []
   },
   "outputs": [
    {
     "output_type": "stream",
     "name": "stdout",
     "text": [
      "Loaded all original midi files.\n",
      "Finished importing ./midi_files/original/small planet (original)_ timo raita.mid.\n",
      "Finished importing ./midi_files/original/high_high_over_the_mountains_jt2.mid.\n",
      "Finished importing ./midi_files/original/always_you-xg_dw.mid.\n",
      "Finished importing ./midi_files/original/Midnight Blues_dw.mid.\n",
      "Finished importing ./midi_files/original/love waves_ah.mid.\n",
      "Finished importing ./midi_files/original/jaberwocky_fiz.mid.\n",
      "Finished importing ./midi_files/original/say_what_you_want-kar_dw.mid.\n",
      "Finished importing ./midi_files/original/changes_dw.mid.\n",
      "Finished importing ./midi_files/original/houseproud mrs petty_ah.mid.\n",
      "Finished importing ./midi_files/original/brians_theme_fiz.mid.\n",
      "Finished importing ./midi_files/original/jazz_heads_dw.mid.\n",
      "Finished importing ./midi_files/original/time_on_our_hands_in _A_bz2_bz3.mid.\n",
      "Finished importing ./midi_files/original/the sunshine in your eyes_ah.mid.\n",
      "Finished importing ./midi_files/original/as far as you can see_ sascha henken.mid.\n",
      "Finished importing ./midi_files/original/musk_dw.mid.\n",
      "Finished importing ./midi_files/original/bizarre2_dw.mid.\n",
      "Finished importing ./midi_files/original/niko_gt2.mid.\n",
      "Finished importing ./midi_files/original/a taste of you_dw.mid.\n",
      "Finished importing ./midi_files/original/saved-dw.mid.\n",
      "Finished importing ./midi_files/original/Hiding Out in Houston Town_cd8.mid.\n",
      "Finished importing ./midi_files/original/out_of_the_blue-org-dw.mid.\n",
      "Finished importing ./midi_files/original/dance_with_me_dw.mid.\n",
      "Finished importing ./midi_files/original/sinatra_coming_home_dw.mid.\n",
      "Finished importing ./midi_files/original/a weekend in paris_ah-wj bowers.mid.\n",
      "Finished importing ./midi_files/original/made in the usa (toh remix)_dw.mid.\n",
      "{'Piano': array(['C2', 'C3', 'B-3', ..., '0.1.4', '10.11.3.5', 'B-3'], dtype='<U9'), 'Electric Guitar': array(['G4', 'G4', 'G4', 'F4', 'E-4', 'G4', 'F4', 'F4', 'E-4', 'C4', 'F4',\n",
      "       'E-4', 'C4', 'E-4', 'G4', 'G4', 'G4', 'F4', 'E-4', 'G4', 'F4',\n",
      "       'F4', 'E-4', 'C4', 'F4', 'E-4', 'C4', 'F4', 'E-4', 'C4', 'F4',\n",
      "       'E-4', 'C4', 'C4', 'E-4', 'B-3', 'C4', 'E-4', 'B-3', 'C4', 'E-4',\n",
      "       'C4', 'F3', 'G#3', 'B-3', 'F3', 'C4', 'G#3', 'E-4', 'B-3', 'C4',\n",
      "       'C4', 'E-4', 'B-3', 'C4', 'E-4', 'B-3', 'C4', 'E-4', 'C4', 'G#3',\n",
      "       'B-3', 'G#3', 'C4', 'B-3', 'F4', 'C4', 'C#4', 'F4', 'C#4', 'G#3',\n",
      "       'B-3', 'C4', 'G#3', 'C#4', 'B-3', 'E-4', 'C4', 'C#4', 'F4', 'E-4',\n",
      "       'G#4', 'F4', 'C#5', 'G#4', 'B-4', 'C#5', 'B-4', 'G#4', 'F4', 'C#4',\n",
      "       'G#4', 'G#3', 'F4', 'G3', 'C#4', 'G#3', 'A3', 'G3', 'C4', 'A3',\n",
      "       'F4', 'C4', 'D4', 'F4', 'D4', 'A3', 'C4', 'D4', 'A3', 'F4', 'C4',\n",
      "       'G4', 'D4', 'F4', 'G4', '10.3', '10.3', '10.3', '10.3', 'B-4',\n",
      "       'E-5', 'B-4', 'E-5', '7.0', '5.10', '7.0', '5.10', '5.10', '5.10',\n",
      "       '2.7', '2.7', 'F4', 'E-4', 'F4', 'C4', 'E-4', 'E-4', 'C4', 'E-4',\n",
      "       'E-4', 'E-4', 'C4', 'E-4', 'C4', 'C4', 'E-4', 'G3', 'C4', 'B-3',\n",
      "       'G3', 'B-3', 'B-3', 'B-3', 'G3', 'B-3', 'G3', 'C4', 'B-3', 'E-4',\n",
      "       'C4', 'F4', 'C#4', 'E-4', 'F4', 'C#4', 'C#4', 'E-4', 'F4', 'C#4',\n",
      "       'E-4', 'G#4', 'F4', 'G#4', 'G#4', 'G#4', 'F4', 'E-4', 'C#4', 'F4',\n",
      "       'E-4', 'G3', 'C#4', 'G3', 'G3', 'G3', 'C4', 'C4', 'F4', 'F4'],\n",
      "      dtype='<U4')}\n",
      "original\n"
     ]
    }
   ],
   "source": [
    "all_midis, genres = get_all_files_in_dir('./midi_files/original')\n",
    "all_midis = [import_midi(x) for x in all_midis]\n",
    "\n",
    "print(all_midis[0])\n",
    "print(genres[0])"
   ]
  },
  {
   "source": [
    "## Part 2: Data Analysis"
   ],
   "cell_type": "markdown",
   "metadata": {}
  },
  {
   "cell_type": "code",
   "execution_count": null,
   "metadata": {},
   "outputs": [],
   "source": [
    "# graph distribution of all images\n",
    "\n",
    "# graph distribution of train images\n",
    "\n",
    "# graph distribution of test images"
   ]
  },
  {
   "cell_type": "markdown",
   "metadata": {},
   "source": [
    "## Part 3: Normalize Dataset"
   ]
  },
  {
   "cell_type": "code",
   "execution_count": null,
   "metadata": {},
   "outputs": [],
   "source": [
    "# convert notes to ints"
   ]
  },
  {
   "cell_type": "markdown",
   "metadata": {},
   "source": [
    "## Part 3: Train GAN With Magenta/Wavenet"
   ]
  },
  {
   "cell_type": "code",
   "execution_count": null,
   "metadata": {},
   "outputs": [],
   "source": []
  },
  {
   "cell_type": "markdown",
   "metadata": {},
   "source": [
    "## Part 4: Train TensorFlow Models"
   ]
  },
  {
   "cell_type": "code",
   "execution_count": null,
   "metadata": {},
   "outputs": [],
   "source": []
  },
  {
   "cell_type": "markdown",
   "metadata": {},
   "source": [
    "## Part 5: Compare Results"
   ]
  },
  {
   "cell_type": "code",
   "execution_count": null,
   "metadata": {},
   "outputs": [],
   "source": []
  },
  {
   "source": [
    "## Sources"
   ],
   "cell_type": "markdown",
   "metadata": {}
  },
  {
   "source": [
    "https://www.analyticsvidhya.com/blog/2020/01/how-to-perform-automatic-music-generation/"
   ],
   "cell_type": "markdown",
   "metadata": {}
  }
 ],
 "metadata": {
  "kernelspec": {
   "display_name": "Python 3",
   "language": "python",
   "name": "python3"
  },
  "language_info": {
   "codemirror_mode": {
    "name": "ipython",
    "version": 3
   },
   "file_extension": ".py",
   "mimetype": "text/x-python",
   "name": "python",
   "nbconvert_exporter": "python",
   "pygments_lexer": "ipython3",
   "version": "3.7.6-final"
  }
 },
 "nbformat": 4,
 "nbformat_minor": 4
}