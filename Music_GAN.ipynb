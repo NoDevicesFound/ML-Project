{
 "cells": [
  {
   "cell_type": "markdown",
   "metadata": {},
   "source": [
    "# Music Generator\n",
    "## COMP 432 Fall 2020\n",
    "## Natalia Whiteley 40044353\n",
    "## Michael Naccache 29794840"
   ]
  },
  {
   "cell_type": "code",
   "execution_count": 99,
   "metadata": {},
   "outputs": [],
   "source": [
    "import os\n",
    "import numpy as np\n",
    "import matplotlib.pyplot as plt\n",
    "import seaborn as sns\n",
    "from collections import Counter\n",
    "from sklearn.model_selection import train_test_split\n",
    "from music21 import *\n",
    "import tensorflow as tf"
   ]
  },
  {
   "cell_type": "code",
   "execution_count": 100,
   "metadata": {},
   "outputs": [],
   "source": [
    "VERBOSE = True\n",
    "GENRES = ['sample', 'classical', ' blues', 'poprock', 'original', 'jazz', 'country', 'gospel']\n",
    "TRAIN_GENRE = 'sample'\n",
    "INSTRUMENTS = [instrument.Piano, instrument.Bass, instrument.Guitar, instrument.Saxophone, instrument.Trumpet]\n",
    "PALETTE = 'husl'\n",
    "TIMESTEPS = 32\n",
    "CHECKPOINT_PATH = 'trained_models/'"
   ]
  },
  {
   "cell_type": "markdown",
   "metadata": {},
   "source": [
    "## Part 1: Import Dataset\n",
    "\n",
    "Here we define some helper functions for loading files and parsing the midi format. Then, we load the midi files and thier genres.\n",
    "The format we use to import the midi files is a list of every song, where each song is a dictionary of a track for each instrument. Each instrument track is a list of all the notes in the track.\n",
    "\n",
    "ex. all_songs -> jazz_song_1 -> piano track -> A5, G2, B5, ..."
   ]
  },
  {
   "cell_type": "code",
   "execution_count": 88,
   "metadata": {
    "tags": []
   },
   "outputs": [],
   "source": [
    "# given the name of a midi file, returns a 2D array of notes per instrument\n",
    "def import_midi(midi_file, verbose=VERBOSE):\n",
    "\n",
    "    # parse midi file\n",
    "    midi = converter.parse(midi_file)\n",
    "  \n",
    "    # seperate based on instrument\n",
    "    midi_parts = instrument.partitionByInstrument(midi)\n",
    "\n",
    "    notes = {}\n",
    "    notes_to_parse = []\n",
    "\n",
    "    for part in midi_parts.parts:\n",
    "        # only use instruments we want\n",
    "        if any(isinstance(part.getInstrument(), x) for x in INSTRUMENTS):\n",
    "            notes[str(part.getInstrument().bestName())] = []\n",
    "            notes_to_parse = part.recurse()\n",
    "\n",
    "            # finding whether a particular element is note or a chord\n",
    "            for element in notes_to_parse: \n",
    "                #note\n",
    "                if isinstance(element, note.Note):\n",
    "                    notes[str(part.getInstrument().bestName())].append(str(element.pitch))\n",
    "                \n",
    "                #chord\n",
    "                elif isinstance(element, chord.Chord):\n",
    "                    notes[str(part.getInstrument().bestName())].append('.'.join(str(n.pitch) for n in element))\n",
    "\n",
    "    # remove any empty instruments\n",
    "    notes = {k: np.array(v) for k, v in notes.items() if v}\n",
    "\n",
    "    if verbose:\n",
    "        print('Finished importing {}.'.format(midi_file))\n",
    "\n",
    "    return notes\n",
    "\n",
    "# gets the path and label for every file in a directory and its sub-directories\n",
    "def get_all_files_in_dir(dir_path, verbose=VERBOSE):\n",
    "    midis = []\n",
    "    genres = []\n",
    "\n",
    "    for root, dirs, files in os.walk(dir_path):\n",
    "        genre = os.path.basename(root)\n",
    "\n",
    "        # if genre not in list, ignore it\n",
    "        if genre in GENRES:\n",
    "            # load all midi files in this directory\n",
    "            for file in files:\n",
    "                if file.endswith('.mid'):\n",
    "                    midis.append(os.path.join(root, file))\n",
    "                    genres.append(genre)\n",
    "            \n",
    "            if verbose:\n",
    "                print('Loaded all {} midi files.'.format(genre))\n",
    "\n",
    "    return midis, genres\n"
   ]
  },
  {
   "cell_type": "code",
   "execution_count": 89,
   "metadata": {
    "tags": []
   },
   "outputs": [
    {
     "output_type": "stream",
     "name": "stdout",
     "text": [
      "Loaded all original midi files.\n",
      "Loaded all poprock midi files.\n",
      "Loaded all classical midi files.\n",
      "Loaded all sample midi files.\n",
      "Loaded all gospel midi files.\n",
      "Loaded all country midi files.\n",
      "Loaded all jazz midi files.\n",
      "Finished importing ./midi_files/sample/a_cottage_for_sale_rs.mid.\n",
      "Finished importing ./midi_files/sample/2_of_a_kind_jp.mid.\n",
      "Finished importing ./midi_files/sample/500_miles_high-Chick-Corea_ee.mid.\n",
      "Finished importing ./midi_files/sample/a_day_in_the_life_of_a_fool_jhall.mid.\n"
     ]
    }
   ],
   "source": [
    "midi_filenames, genres = get_all_files_in_dir('./midi_files')\n",
    "songs = [import_midi(x) for x in midi_filenames if genres[midi_filenames.index(x)] == TRAIN_GENRE]"
   ]
  },
  {
   "cell_type": "markdown",
   "metadata": {},
   "source": [
    "## Part 2: Data Analysis\n",
    "Here we make some graphs for the distribution of genres and distributions of notes in each song to see what adjustements we need to make to the data."
   ]
  },
  {
   "cell_type": "markdown",
   "metadata": {},
   "source": [
    "From the genre distribution, jazz leads by a significant margin, meaning it would get the best results from training."
   ]
  },
  {
   "cell_type": "code",
   "execution_count": 90,
   "metadata": {},
   "outputs": [
    {
     "output_type": "execute_result",
     "data": {
      "text/plain": [
       "Text(0.5, 1.0, 'Genre Distribution')"
      ]
     },
     "metadata": {},
     "execution_count": 90
    },
    {
     "output_type": "display_data",
     "data": {
      "text/plain": "<Figure size 432x288 with 1 Axes>",
      "image/png": "[encoded data removed]"
     },
     "metadata": {
      "image/png": {
       "width": 388,
       "height": 263
      },
      "needs_background": "light"
     }
    }
   ],
   "source": [
    "# graph distribution of genres\n",
    "sns.countplot(genres, palette=PALETTE)\n",
    "plt.title('Genre Distribution')"
   ]
  },
  {
   "cell_type": "code",
   "execution_count": 91,
   "metadata": {},
   "outputs": [],
   "source": [
    "# graph note distribution in one song\n",
    "def plot_notes_per_instrument(song, song_name):\n",
    "    fig, ax = plt.subplots(len(song.keys()), 1, figsize=(10, 5))\n",
    "    fig.suptitle('Note distribution in by instrument {}'.format(song_name))\n",
    "    \n",
    "    i = 0\n",
    "    for instrument in song.keys():        \n",
    "        sns.countplot(song[instrument], ax=ax[i], palette=PALETTE)\n",
    "        ax[i].set_title(instrument)\n",
    "        ax[i].tick_params(axis='x', labelsize=5, labelrotation=45)\n",
    "        i += 1"
   ]
  },
  {
   "cell_type": "markdown",
   "metadata": {},
   "source": [
    "With the note distributions, you can see that some instruments have an excess of notes played only a few times that don't add much to the general composition."
   ]
  },
  {
   "cell_type": "code",
   "execution_count": 92,
   "metadata": {},
   "outputs": [
    {
     "output_type": "display_data",
     "data": {
      "text/plain": "<Figure size 720x360 with 2 Axes>",
      "image/png": "[encoded data removed]"
     },
     "metadata": {
      "image/png": {
       "width": 609,
       "height": 358
      },
      "needs_background": "light"
     }
    }
   ],
   "source": [
    "plot_notes_per_instrument(songs[0], os.path.basename(midi_filenames[0]))"
   ]
  },
  {
   "cell_type": "markdown",
   "metadata": {},
   "source": [
    "## Part 3: Split and Normalize Dataset"
   ]
  },
  {
   "cell_type": "code",
   "execution_count": 93,
   "metadata": {},
   "outputs": [],
   "source": [
    "# remove any unfrequent notes; ie. less than 10% of the max frequency\n",
    "def remove_unfrequent_notes(song):\n",
    "    # select each instrument track\n",
    "    for instrument in song.keys():\n",
    "        freq = Counter(song[instrument])\n",
    "\n",
    "        # get the max feuquency of notes\n",
    "        max_freq = freq.most_common(1)[0][1]\n",
    "\n",
    "        # make list of all the significant notes\n",
    "        frequent_notes = [note for note in song[instrument] if freq[note] >= max_freq * 0.10]\n",
    "        new_song = []\n",
    "        for note in song[instrument]:\n",
    "            if note in frequent_notes:\n",
    "                new_song.append(note)\n",
    "        \n",
    "        song[instrument] = new_song\n",
    "\n",
    "    return song\n",
    "\n",
    "# remove infrequent notes from songs\n",
    "songs = [remove_unfrequent_notes(song) for song in songs]"
   ]
  },
  {
   "source": [
    "Create the X and y datasets. As this model is trying to predict the next note given a sequence of previous notes, X will be a slice of notes and y is the next note after the slice.\n",
    "\n",
    "ex. song = [C3, D3, E3, C3] -> X = [C3, D3, E3] y = [C3]"
   ],
   "cell_type": "markdown",
   "metadata": {}
  },
  {
   "cell_type": "code",
   "execution_count": 102,
   "metadata": {},
   "outputs": [],
   "source": [
    "# dictionaries to quickly convert between notes and ints and vice versa\n",
    "note_to_int = {}\n",
    "int_to_note = {}\n",
    "\n",
    "def convert_song(song, reverse=False):\n",
    "    new_song = []\n",
    "\n",
    "    # reverse is translating ints back to note strings\n",
    "    if reverse:\n",
    "        for note in song:\n",
    "            new_song.append(int_to_note[note])\n",
    "\n",
    "    # translate note strings to ints\n",
    "    else:\n",
    "        for note in song:\n",
    "            # note already in dictionary\n",
    "            if note in note_to_int:\n",
    "                new_song.append(note_to_int[note])\n",
    "            # add note to both dictionaries\n",
    "            else:\n",
    "                note_to_int[note] = len(note_to_int)\n",
    "                int_to_note[note_to_int[note]] = note\n",
    "                new_song.append(note_to_int[note])\n",
    "\n",
    "    return new_song"
   ]
  },
  {
   "cell_type": "code",
   "execution_count": 106,
   "metadata": {},
   "outputs": [],
   "source": [
    "def make_X_and_y(notes):\n",
    "    X = []\n",
    "    y = []\n",
    "\n",
    "    for note in notes:\n",
    "        for i in range(0, len(notes) - TIMESTEPS, 1):\n",
    "            notes_in = notes[i:i + TIMESTEPS]\n",
    "            notes_out = notes[i + TIMESTEPS]\n",
    "            \n",
    "            X.append(notes_in)\n",
    "            y.append(notes_out)\n",
    "\n",
    "    return X, y\n",
    "\n",
    "def get_train_and_val(X, y):\n",
    "    # create X and y from int-encoded categories\n",
    "    X = np.array(X)\n",
    "    y = np.array(y)\n",
    "\n",
    "    # split into train and validation\n",
    "    X_train, X_val, y_train, y_val = train_test_split(X, y, test_size=0.2)\n",
    "\n",
    "    # convert train and val sets to tensors\n",
    "    X_train = tf.convert_to_tensor(X_train)\n",
    "    X_val = tf.convert_to_tensor(X_val)\n",
    "    y_train = tf.convert_to_tensor(y_train)\n",
    "    y_val = tf.convert_to_tensor(y_val)\n",
    "\n",
    "    return X_train, X_val, y_train, y_val"
   ]
  },
  {
   "cell_type": "code",
   "execution_count": 126,
   "metadata": {
    "tags": []
   },
   "outputs": [],
   "source": [
    "X_train_all_instruments, X_val_all_instruments, y_train_all_instruments, y_val_all_instruments = {}, {}, {}, {}\n",
    "\n",
    "# flatten songs so it contains all notes from a genre\n",
    "for instrument in songs[0].keys():\n",
    "    X, y = make_X_and_y(convert_song(songs[0][instrument]))\n",
    "    X_train, X_val, y_train, y_val = get_train_and_val(X, y)\n",
    "\n",
    "    X_train_all_instruments[instrument] = X_train\n",
    "    X_val_all_instruments[instrument] = X_val\n",
    "    y_train_all_instruments[instrument] = y_train\n",
    "    y_val_all_instruments[instrument] = y_val"
   ]
  },
  {
   "cell_type": "markdown",
   "metadata": {},
   "source": [
    "## Part 3: Train GAN With Wavenet"
   ]
  },
  {
   "cell_type": "code",
   "execution_count": 127,
   "metadata": {},
   "outputs": [
    {
     "output_type": "stream",
     "name": "stdout",
     "text": [
      "Model: \"sequential_8\"\n_________________________________________________________________\nLayer (type)                 Output Shape              Param #   \n=================================================================\nembedding_8 (Embedding)      (None, 32, 100)           3300      \n_________________________________________________________________\nconv1d_24 (Conv1D)           (None, 32, 64)            19264     \n_________________________________________________________________\nconv1d_25 (Conv1D)           (None, 32, 128)           24704     \n_________________________________________________________________\nconv1d_26 (Conv1D)           (None, 32, 256)           98560     \n_________________________________________________________________\nglobal_max_pooling1d_8 (Glob (None, 256)               0         \n_________________________________________________________________\ndense_8 (Dense)              (None, 33)                8481      \n=================================================================\nTotal params: 154,309\nTrainable params: 154,309\nNon-trainable params: 0\n_________________________________________________________________\n"
     ]
    }
   ],
   "source": [
    "# wavenet-ish model\n",
    "model = tf.keras.Sequential([\n",
    "    # embedding layer, so that similar values have similar weights\n",
    "    tf.keras.layers.Embedding(len(note_to_int), 100, input_length=32 ,trainable=True),\n",
    "    # step 1: causal 1D convolution layer\n",
    "    tf.keras.layers.Conv1D(64, 3, activation='relu', padding='causal'),\n",
    "    # step 2: dialated 1D causal convolutional layer with sigmoid activation\n",
    "    tf.keras.layers.Conv1D(128, 3, activation='sigmoid', dilation_rate=2, padding='causal'),\n",
    "    # step 3: dialated 2D causal convolutional layer with tanh activation\n",
    "    tf.keras.layers.Conv1D(256, 3, activation='tanh', dilation_rate=4, padding='causal'),\n",
    "    # i don't know what this is tbh, max of dilated values i guess\n",
    "    tf.keras.layers.GlobalMaxPool1D(),\n",
    "    # reduce to output size\n",
    "    tf.keras.layers.Dense(len(note_to_int), activation='softmax')\n",
    "])\n",
    "\n",
    "# compile the model\n",
    "model.compile(optimizer='adam', loss=tf.keras.losses.SparseCategoricalCrossentropy(from_logits=True))\n",
    "\n",
    "# pretty summary of our model\n",
    "model.summary()"
   ]
  },
  {
   "cell_type": "code",
   "execution_count": 144,
   "metadata": {},
   "outputs": [
    {
     "output_type": "stream",
     "name": "stdout",
     "text": [
      "Epoch 1/10\n",
      "161/163 [============================>.] - ETA: 0s - loss: 2.9100\n",
      "Epoch 00001: val_loss improved from inf to 2.83379, saving model to ./model_checkpoints/best_Acoustic Bass_model.ckpt\n",
      "163/163 [==============================] - 5s 34ms/step - loss: 2.9094 - val_loss: 2.8338\n",
      "Epoch 2/10\n",
      "161/163 [============================>.] - ETA: 0s - loss: 2.8065\n",
      "Epoch 00002: val_loss improved from 2.83379 to 2.76069, saving model to ./model_checkpoints/best_Acoustic Bass_model.ckpt\n",
      "163/163 [==============================] - 5s 34ms/step - loss: 2.8058 - val_loss: 2.7607\n",
      "Epoch 3/10\n",
      "161/163 [============================>.] - ETA: 0s - loss: 2.7499\n",
      "Epoch 00003: val_loss improved from 2.76069 to 2.73177, saving model to ./model_checkpoints/best_Acoustic Bass_model.ckpt\n",
      "163/163 [==============================] - 5s 33ms/step - loss: 2.7496 - val_loss: 2.7318\n",
      "Epoch 4/10\n",
      "161/163 [============================>.] - ETA: 0s - loss: 2.7296\n",
      "Epoch 00004: val_loss improved from 2.73177 to 2.72489, saving model to ./model_checkpoints/best_Acoustic Bass_model.ckpt\n",
      "163/163 [==============================] - 5s 34ms/step - loss: 2.7293 - val_loss: 2.7249\n",
      "Epoch 5/10\n",
      "161/163 [============================>.] - ETA: 0s - loss: 2.7192\n",
      "Epoch 00005: val_loss improved from 2.72489 to 2.71659, saving model to ./model_checkpoints/best_Acoustic Bass_model.ckpt\n",
      "163/163 [==============================] - 6s 34ms/step - loss: 2.7191 - val_loss: 2.7166\n",
      "Epoch 6/10\n",
      "161/163 [============================>.] - ETA: 0s - loss: 2.7188\n",
      "Epoch 00006: val_loss improved from 2.71659 to 2.71650, saving model to ./model_checkpoints/best_Acoustic Bass_model.ckpt\n",
      "163/163 [==============================] - 6s 34ms/step - loss: 2.7185 - val_loss: 2.7165\n",
      "Epoch 7/10\n",
      "162/163 [============================>.] - ETA: 0s - loss: 2.7148\n",
      "Epoch 00007: val_loss improved from 2.71650 to 2.71013, saving model to ./model_checkpoints/best_Acoustic Bass_model.ckpt\n",
      "163/163 [==============================] - 6s 34ms/step - loss: 2.7147 - val_loss: 2.7101\n",
      "Epoch 8/10\n",
      "161/163 [============================>.] - ETA: 0s - loss: 2.7113\n",
      "Epoch 00008: val_loss improved from 2.71013 to 2.71001, saving model to ./model_checkpoints/best_Acoustic Bass_model.ckpt\n",
      "163/163 [==============================] - 6s 34ms/step - loss: 2.7114 - val_loss: 2.7100\n",
      "Epoch 9/10\n",
      "161/163 [============================>.] - ETA: 0s - loss: 2.7119\n",
      "Epoch 00009: val_loss improved from 2.71001 to 2.70996, saving model to ./model_checkpoints/best_Acoustic Bass_model.ckpt\n",
      "163/163 [==============================] - 6s 34ms/step - loss: 2.7113 - val_loss: 2.7100\n",
      "Epoch 10/10\n",
      "161/163 [============================>.] - ETA: 0s - loss: 2.7111\n",
      "Epoch 00010: val_loss improved from 2.70996 to 2.70992, saving model to ./model_checkpoints/best_Acoustic Bass_model.ckpt\n",
      "163/163 [==============================] - 6s 34ms/step - loss: 2.7113 - val_loss: 2.7099\n",
      "Epoch 1/10\n",
      "2323/2325 [============================>.] - ETA: 0s - loss: 2.6835\n",
      "Epoch 00001: val_loss improved from inf to 2.67659, saving model to ./model_checkpoints/best_Piano_model.ckpt\n",
      "2325/2325 [==============================] - 80s 34ms/step - loss: 2.6835 - val_loss: 2.6766\n",
      "Epoch 2/10\n",
      "2323/2325 [============================>.] - ETA: 0s - loss: 2.6749\n",
      "Epoch 00002: val_loss improved from 2.67659 to 2.67132, saving model to ./model_checkpoints/best_Piano_model.ckpt\n",
      "2325/2325 [==============================] - 81s 35ms/step - loss: 2.6749 - val_loss: 2.6713\n",
      "Epoch 3/10\n",
      "2324/2325 [============================>.] - ETA: 0s - loss: 2.6679\n",
      "Epoch 00003: val_loss improved from 2.67132 to 2.66172, saving model to ./model_checkpoints/best_Piano_model.ckpt\n",
      "2325/2325 [==============================] - 82s 35ms/step - loss: 2.6679 - val_loss: 2.6617\n",
      "Epoch 4/10\n",
      "2323/2325 [============================>.] - ETA: 0s - loss: 2.6588\n",
      "Epoch 00004: val_loss improved from 2.66172 to 2.65272, saving model to ./model_checkpoints/best_Piano_model.ckpt\n",
      "2325/2325 [==============================] - 82s 35ms/step - loss: 2.6588 - val_loss: 2.6527\n",
      "Epoch 5/10\n",
      "2323/2325 [============================>.] - ETA: 0s - loss: 2.6486\n",
      "Epoch 00005: val_loss improved from 2.65272 to 2.64426, saving model to ./model_checkpoints/best_Piano_model.ckpt\n",
      "2325/2325 [==============================] - 82s 35ms/step - loss: 2.6486 - val_loss: 2.6443\n",
      "Epoch 6/10\n",
      "2323/2325 [============================>.] - ETA: 0s - loss: 2.6421\n",
      "Epoch 00006: val_loss improved from 2.64426 to 2.63727, saving model to ./model_checkpoints/best_Piano_model.ckpt\n",
      "2325/2325 [==============================] - 82s 35ms/step - loss: 2.6421 - val_loss: 2.6373\n",
      "Epoch 7/10\n",
      "2323/2325 [============================>.] - ETA: 0s - loss: 2.6361\n",
      "Epoch 00007: val_loss improved from 2.63727 to 2.63253, saving model to ./model_checkpoints/best_Piano_model.ckpt\n",
      "2325/2325 [==============================] - 82s 35ms/step - loss: 2.6361 - val_loss: 2.6325\n",
      "Epoch 8/10\n",
      "2323/2325 [============================>.] - ETA: 0s - loss: 2.6293\n",
      "Epoch 00008: val_loss improved from 2.63253 to 2.62617, saving model to ./model_checkpoints/best_Piano_model.ckpt\n",
      "2325/2325 [==============================] - 83s 36ms/step - loss: 2.6293 - val_loss: 2.6262\n",
      "Epoch 9/10\n",
      "2323/2325 [============================>.] - ETA: 0s - loss: 2.6251\n",
      "Epoch 00009: val_loss improved from 2.62617 to 2.62092, saving model to ./model_checkpoints/best_Piano_model.ckpt\n",
      "2325/2325 [==============================] - 83s 36ms/step - loss: 2.6251 - val_loss: 2.6209\n",
      "Epoch 10/10\n",
      "2323/2325 [============================>.] - ETA: 0s - loss: 2.6218\n",
      "Epoch 00010: val_loss improved from 2.62092 to 2.61921, saving model to ./model_checkpoints/best_Piano_model.ckpt\n",
      "2325/2325 [==============================] - 83s 36ms/step - loss: 2.6218 - val_loss: 2.6192\n"
     ]
    }
   ],
   "source": [
    "for instrument in X_train_all_instruments.keys():\n",
    "    # make callback to save best model weights\n",
    "    model_callback = tf.keras.callbacks.ModelCheckpoint(filepath='./model_checkpoints/best_{}_model.ckpt'.format(instrument), save_weights_only=True,\n",
    "    monitor='val_loss', mode='min',save_best_only=True, verbose=1)\n",
    "\n",
    "    # load model if checkpoint exists, or train the model\n",
    "    # TODO: fix doesn't load model if exists\n",
    "    if not (os.path.exists('./model_checkpoints/best_{}_model.ckpt'.format(instrument))):\n",
    "        model.fit(X_train_all_instruments[instrument], y_train_all_instruments[instrument], validation_data=(X_val_all_instruments[instrument], y_val_all_instruments[instrument]), epochs=10, batch_size=128, callbacks=[model_callback])\n",
    "        \n"
   ]
  },
  {
   "source": [
    "Now, we use the trained model to create new music by selecting a random starting note and have the model predict the successive notes. The model uses the first random note to start the song, then the next predictions are based on the past predictions of the model."
   ],
   "cell_type": "markdown",
   "metadata": {}
  },
  {
   "cell_type": "code",
   "execution_count": 145,
   "metadata": {},
   "outputs": [
    {
     "output_type": "stream",
     "name": "stdout",
     "text": [
      "{'Acoustic Bass': [1, 0, 1, 0, 1, 0, 1, 1, 1, 1, 1, 1, 1, 1, 0, 1, 1, 1, 1, 0, 1, 0, 1, 1, 1, 0, 1, 1, 0, 0, 1, 0, 1, 1, 1, 1, 1, 1, 1, 1, 1, 1, 1, 1, 1, 1, 1, 1, 1, 1, 1, 1, 1, 1, 1, 1, 1, 1, 1, 1, 1, 1, 1, 1, 1, 1, 1, 1, 1, 1, 1, 1, 1, 1, 1, 1, 1, 1, 1, 1, 1, 1, 1, 1, 1, 1, 1, 1, 1, 1, 1, 1, 1, 1, 1, 1, 1, 1, 1, 1], 'Piano': [0, 0, 0, 0, 0, 0, 0, 0, 0, 0, 0, 0, 0, 0, 0, 0, 0, 0, 0, 0, 0, 0, 0, 0, 0, 0, 0, 0, 0, 0, 0, 0, 0, 0, 0, 0, 0, 0, 0, 0, 0, 0, 0, 0, 0, 0, 0, 0, 0, 0, 0, 0, 0, 0, 0, 0, 0, 0, 0, 0, 0, 0, 0, 0, 0, 0, 0, 0, 0, 0, 0, 0, 0, 0, 0, 0, 0, 0, 0, 0, 0, 0, 0, 0, 0, 0, 0, 0, 0, 0, 0, 0, 0, 0, 0, 0, 0, 0, 0, 0]}\n"
     ]
    }
   ],
   "source": [
    "new_song = {}\n",
    "\n",
    "# why 10?\n",
    "for instrument in X_val_all_instruments.keys():\n",
    "    # choose a random note to start the music\n",
    "    index = np.random.randint(0, len(X_val_all_instruments[instrument]) - 1)\n",
    "    past_notes = tf.convert_to_tensor(X_val_all_instruments[instrument][index])\n",
    "\n",
    "    for i in range(100):\n",
    "        past_notes = tf.reshape(past_notes, [TIMESTEPS])\n",
    "\n",
    "        # get predicted note given previous notes\n",
    "        model.load_weights('./model_checkpoints/best_{}_model.ckpt'.format(instrument))\n",
    "        note_prob  = model.predict(past_notes)[0]\n",
    "        next_note = np.argmax(note_prob, axis=0)\n",
    "\n",
    "        # add predicted note to song\n",
    "        if instrument in new_song.keys():\n",
    "            new_song[instrument].append(next_note)\n",
    "        else: new_song[instrument] = [next_note]\n",
    "\n",
    "        # add prediction to past notes to use for next prediction\n",
    "        past_notes_numpy = past_notes.numpy()\n",
    "        past_notes_numpy = np.append(past_notes_numpy, next_note)\n",
    "        past_notes_numpy = past_notes_numpy[1:]\n",
    "        past_notes = tf.convert_to_tensor(past_notes_numpy)\n",
    "\n",
    "print(new_song)"
   ]
  },
  {
   "cell_type": "code",
   "execution_count": 146,
   "metadata": {},
   "outputs": [],
   "source": [
    "new_music = convert_song(new_music, reverse=True)\n",
    "\n",
    "def export_midi(notes):\n",
    "    def export_midi(songs):\n",
    "    \n",
    "    output_notes = []\n",
    "    \n",
    "    for song in songs:\n",
    "        int_to_notes = []\n",
    "        for instrument in song.keys():\n",
    "            int_to_notes.append(convert_song(song[instrument]))\n",
    "        output_notes[instrument].append(int_to_notes)\n",
    "        \n",
    "        \n",
    "    midi_stream = stream.Stream(output_notes)\n",
    "    midi_stream.write('midi', fp='music.mid')\n"
   ]
  },
  {
   "cell_type": "markdown",
   "metadata": {},
   "source": [
    "## Part 5: Results"
   ]
  },
  {
   "cell_type": "code",
   "execution_count": null,
   "metadata": {},
   "outputs": [],
   "source": [
    "# TODO: make function that compares notes in training data with generated results"
   ]
  },
  {
   "cell_type": "markdown",
   "metadata": {},
   "source": [
    "## Sources"
   ]
  },
  {
   "cell_type": "markdown",
   "metadata": {},
   "source": [
    "* https://www.analyticsvidhya.com/blog/2020/01/how-to-perform-automatic-music-generation/\n",
    "* https://www.kaggle.com/wfaria/midi-music-data-extraction-using-music21"
   ]
  }
 ],
 "metadata": {
  "kernelspec": {
   "display_name": "Python 3",
   "language": "python",
   "name": "python3"
  },
  "language_info": {
   "codemirror_mode": {
    "name": "ipython",
    "version": 3
   },
   "file_extension": ".py",
   "mimetype": "text/x-python",
   "name": "python",
   "nbconvert_exporter": "python",
   "pygments_lexer": "ipython3",
   "version": "3.7.6-final"
  }
 },
 "nbformat": 4,
 "nbformat_minor": 4
}