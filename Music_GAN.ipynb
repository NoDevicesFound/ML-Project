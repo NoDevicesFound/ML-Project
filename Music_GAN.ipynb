{
 "cells": [
  {
   "cell_type": "markdown",
   "metadata": {},
   "source": [
    "# Music Generator\n",
    "## COMP 432 Fall 2020\n",
    "## Natalia Whiteley 40044353 and Michael Naccache 27..."
   ]
  },
  {
   "cell_type": "code",
   "execution_count": 184,
   "metadata": {},
   "outputs": [],
   "source": [
    "import os\n",
    "import numpy as np\n",
    "import matplotlib.pyplot as plt\n",
    "import seaborn as sns\n",
    "from collections import Counter\n",
    "from sklearn.model_selection import train_test_split\n",
    "from music21 import *"
   ]
  },
  {
   "cell_type": "code",
   "execution_count": 134,
   "metadata": {},
   "outputs": [],
   "source": [
    "VERBOSE = True\n",
    "GENRES = ['sample']\n",
    "INSTRUMENTS = [instrument.Piano, instrument.Bass, instrument.Guitar, instrument.Saxophone, instrument.Trumpet]\n",
    "PALETTE = 'husl'"
   ]
  },
  {
   "cell_type": "markdown",
   "metadata": {},
   "source": [
    "## Part 1: Import Dataset\n",
    "\n",
    "Here we define some helper functions for loading files and parsing the midi format. Then, we load the midi files and thier genres.\n",
    "The format we use to import the midi files is a list of every song, where each song is a dictionary of a track for each instrument. Each instrument track is a list of all the notes in the track.\n",
    "\n",
    "ex. all_songs -> jazz_song_1 -> piano track -> A5, G2, B5, ..."
   ]
  },
  {
   "cell_type": "code",
   "execution_count": 152,
   "metadata": {
    "tags": []
   },
   "outputs": [],
   "source": [
    "# given the name of a midi file, returns a 2D array of notes per instrument\n",
    "def import_midi(midi_file, verbose=VERBOSE):\n",
    "\n",
    "    # parse midi file\n",
    "    midi = converter.parse(midi_file)\n",
    "  \n",
    "    # seperate based on instrument\n",
    "    midi_parts = instrument.partitionByInstrument(midi)\n",
    "\n",
    "    notes = {}\n",
    "    notes_to_parse = []\n",
    "\n",
    "    for part in midi_parts.parts:\n",
    "        # only use instruments we want\n",
    "        if any(isinstance(part.getInstrument(), x) for x in INSTRUMENTS):\n",
    "            notes[str(part.getInstrument().bestName())] = []\n",
    "            notes_to_parse = part.recurse()\n",
    "\n",
    "            # finding whether a particular element is note or a chord\n",
    "            for element in notes_to_parse: \n",
    "                #note\n",
    "                if isinstance(element, note.Note):\n",
    "                    notes[str(part.getInstrument().bestName())].append(str(element.pitch))\n",
    "                \n",
    "                #chord\n",
    "                elif isinstance(element, chord.Chord):\n",
    "                    notes[str(part.getInstrument().bestName())].append('.'.join(str(n.pitch) for n in element))\n",
    "\n",
    "    # remove any empty instruments\n",
    "    notes = {k: np.array(v) for k, v in notes.items() if v}\n",
    "\n",
    "    if verbose:\n",
    "        print('Finished importing {}.'.format(midi_file))\n",
    "\n",
    "    return notes\n",
    "\n",
    "# gets the path and label for every file in a directory and its sub-directories\n",
    "def get_all_files_in_dir(dir_path, verbose=VERBOSE):\n",
    "    midis = []\n",
    "    genres = []\n",
    "\n",
    "    for root, dirs, files in os.walk(dir_path):\n",
    "        genre = os.path.basename(root)\n",
    "\n",
    "        # if genre not in list, ignore it\n",
    "        if genre in GENRES:\n",
    "            # load all midi files in this directory\n",
    "            for file in files:\n",
    "                if file.endswith('.mid'):\n",
    "                    midis.append(os.path.join(root, file))\n",
    "                    genres.append(genre)\n",
    "            \n",
    "            if verbose:\n",
    "                print('Loaded all {} midi files.'.format(genre))\n",
    "\n",
    "    return midis, genres\n"
   ]
  },
  {
   "cell_type": "code",
   "execution_count": 153,
   "metadata": {
    "tags": []
   },
   "outputs": [
    {
     "output_type": "stream",
     "name": "stdout",
     "text": [
      "Loaded all sample midi files.\n",
      "Finished importing ./midi_files/sample/a_cottage_for_sale_rs.mid.\n",
      "Finished importing ./midi_files/sample/2_of_a_kind_jp.mid.\n",
      "Finished importing ./midi_files/sample/500_miles_high-Chick-Corea_ee.mid.\n",
      "Finished importing ./midi_files/sample/a_day_in_the_life_of_a_fool_jhall.mid.\n"
     ]
    }
   ],
   "source": [
    "midi_filenames, genres = get_all_files_in_dir('./midi_files')\n",
    "songs = [import_midi(x) for x in midi_filenames]"
   ]
  },
  {
   "source": [
    "## Part 2: Data Analysis\n",
    "Here we make some graphs for the distribution of genres and distributions of notes in each song to see what adjustements we need to make to the data."
   ],
   "cell_type": "markdown",
   "metadata": {}
  },
  {
   "source": [
    "From the genre distribution, jazz leads by a significant margin, meaning it would get the best results from training."
   ],
   "cell_type": "markdown",
   "metadata": {}
  },
  {
   "cell_type": "code",
   "execution_count": 154,
   "metadata": {},
   "outputs": [
    {
     "output_type": "execute_result",
     "data": {
      "text/plain": [
       "Text(0.5, 1.0, 'Genre Distribution')"
      ]
     },
     "metadata": {},
     "execution_count": 154
    },
    {
     "output_type": "display_data",
     "data": {
      "text/plain": "<Figure size 432x288 with 1 Axes>",
      "image/png": "[encoded data removed]"
     },
     "metadata": {
      "image/png": {
       "width": 385,
       "height": 263
      },
      "needs_background": "light"
     }
    }
   ],
   "source": [
    "# graph distribution of genres\n",
    "sns.countplot(genres, palette=PALETTE)\n",
    "plt.title('Genre Distribution')"
   ]
  },
  {
   "cell_type": "code",
   "execution_count": 155,
   "metadata": {},
   "outputs": [],
   "source": [
    "# graph note distribution in one song\n",
    "def plot_notes_per_instrument(song, song_name):\n",
    "    fig, ax = plt.subplots(len(song.keys()), 1, figsize=(10, 5))\n",
    "    fig.suptitle('Note distribution in by instrument {}'.format(song_name))\n",
    "    \n",
    "    i = 0\n",
    "    for instrument in song.keys():        \n",
    "        sns.countplot(song[instrument], ax=ax[i], palette=PALETTE)\n",
    "        ax[i].set_title(instrument)\n",
    "        ax[i].tick_params(axis='x', labelsize=5, labelrotation=45)\n",
    "        i += 1"
   ]
  },
  {
   "source": [
    "With the note distributions, you can see that some instruments have an excess of notes played only a few times that don't add much to the general composition."
   ],
   "cell_type": "markdown",
   "metadata": {}
  },
  {
   "cell_type": "code",
   "execution_count": 160,
   "metadata": {},
   "outputs": [
    {
     "output_type": "display_data",
     "data": {
      "text/plain": "<Figure size 720x360 with 2 Axes>",
      "image/png": "[encoded data removed]"
     },
     "metadata": {
      "image/png": {
       "width": 605,
       "height": 353
      },
      "needs_background": "light"
     }
    }
   ],
   "source": [
    "plot_notes_per_instrument(songs[0], os.path.basename(midi_filenames[0]))"
   ]
  },
  {
   "cell_type": "markdown",
   "metadata": {},
   "source": [
    "## Part 3: Split and Normalize Dataset"
   ]
  },
  {
   "cell_type": "code",
   "execution_count": 161,
   "metadata": {},
   "outputs": [],
   "source": [
    "# remove any unfrequent notes; ie. less than 10% of the max frequency\n",
    "def remove_unfrequent_notes(song):\n",
    "    # select each instrument track\n",
    "    for instrument in song.keys():\n",
    "        freq = Counter(song[instrument])\n",
    "\n",
    "        # get the max feuquency of notes\n",
    "        max_freq = freq.most_common(1)[0][1]\n",
    "\n",
    "        # make list of all the significant notes\n",
    "        frequent_notes = [note for note in song[instrument] if freq[note] >= max_freq * 0.10]\n",
    "        new_song = []\n",
    "        for note in song[instrument]:\n",
    "            if note in frequent_notes:\n",
    "                new_song.append(note)\n",
    "        \n",
    "        song[instrument] = new_song\n",
    "\n",
    "    return song\n",
    "\n",
    "# remove infrequent notes from songs\n",
    "songs = [remove_unfrequent_notes(song) for song in songs]"
   ]
  },
  {
   "cell_type": "code",
   "execution_count": 175,
   "metadata": {},
   "outputs": [],
   "source": [
    "# dictionaries to quickly convert between notes and ints and vice versa\n",
    "note_to_int = {}\n",
    "int_to_note = {}\n",
    "\n",
    "def convert_song(song, reverse=False):\n",
    "    new_song = {}\n",
    "\n",
    "    # reverse is translating ints back to note strings\n",
    "    if reverse:\n",
    "        for instrument in song.keys():\n",
    "            for note in song[instrument]:\n",
    "                new_song[instrument].append(int_to_note[note])\n",
    "\n",
    "    # translate note strings to ints\n",
    "    else:\n",
    "        for instrument in song.keys():\n",
    "            new_song[instrument] = []\n",
    "            for note in song[instrument]:\n",
    "                # note already in dictionary\n",
    "                if note in note_to_int:\n",
    "                    new_song[instrument].append(note_to_int[note])\n",
    "                # add note to both dictionaries\n",
    "                else:\n",
    "                    note_to_int[note] = len(note_to_int)\n",
    "                    int_to_note[note_to_int[note]] = note\n",
    "                    new_song[instrument].append(note_to_int[note])\n",
    "\n",
    "    return new_song"
   ]
  },
  {
   "cell_type": "code",
   "execution_count": 181,
   "metadata": {},
   "outputs": [],
   "source": [
    "# convert songs and genres from string categories to int categories\n",
    "songs_int = [convert_song(song) for song in songs]\n",
    "\n",
    "genres_to_int = dict((genre, number) for number, genre in enumerate(list(set(genres))))\n",
    "genres_int = [genres_to_int[i] for i in genres]"
   ]
  },
  {
   "cell_type": "code",
   "execution_count": 187,
   "metadata": {},
   "outputs": [],
   "source": [
    "# create X and y from int-encoded categories\n",
    "X = np.array(songs_int)\n",
    "y = np.array(genres_int)\n",
    "\n",
    "# split into train and validation\n",
    "X_train, X_val, y_train, y_val = train_test_split(X, y, test_size=0.2)"
   ]
  },
  {
   "cell_type": "markdown",
   "metadata": {},
   "source": [
    "## Part 3: Train GAN With Magenta/Wavenet"
   ]
  },
  {
   "cell_type": "code",
   "execution_count": null,
   "metadata": {},
   "outputs": [],
   "source": []
  },
  {
   "cell_type": "markdown",
   "metadata": {},
   "source": [
    "## Part 5: Results"
   ]
  },
  {
   "cell_type": "code",
   "execution_count": null,
   "metadata": {},
   "outputs": [],
   "source": [
    "# TODO: make function that compares notes in training data with generated results"
   ]
  },
  {
   "source": [
    "## Sources"
   ],
   "cell_type": "markdown",
   "metadata": {}
  },
  {
   "source": [
    "* https://www.analyticsvidhya.com/blog/2020/01/how-to-perform-automatic-music-generation/\n",
    "* https://www.kaggle.com/wfaria/midi-music-data-extraction-using-music21"
   ],
   "cell_type": "markdown",
   "metadata": {}
  }
 ],
 "metadata": {
  "kernelspec": {
   "display_name": "Python 3",
   "language": "python",
   "name": "python3"
  },
  "language_info": {
   "codemirror_mode": {
    "name": "ipython",
    "version": 3
   },
   "file_extension": ".py",
   "mimetype": "text/x-python",
   "name": "python",
   "nbconvert_exporter": "python",
   "pygments_lexer": "ipython3",
   "version": "3.7.6-final"
  }
 },
 "nbformat": 4,
 "nbformat_minor": 4
}