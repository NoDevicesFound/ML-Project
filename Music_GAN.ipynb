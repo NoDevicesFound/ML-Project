{
 "cells": [
  {
   "cell_type": "markdown",
   "metadata": {},
   "source": [
    "# Music Generator\n",
    "## COMP 432 Fall 2020\n",
    "## Natalia Whiteley 40044353 and Michael Naccache 27..."
   ]
  },
  {
   "cell_type": "code",
   "execution_count": 41,
   "metadata": {},
   "outputs": [],
   "source": [
    "import os\n",
    "import numpy as np\n",
    "import matplotlib.pyplot as plt\n",
    "import seaborn as sns\n",
    "from music21 import *"
   ]
  },
  {
   "cell_type": "code",
   "execution_count": 134,
   "metadata": {},
   "outputs": [],
   "source": [
    "# instruments to include from the midi file\n",
    "INSTRUMENTS = [instrument.Piano, instrument.Bass, instrument.Guitar, instrument.Saxophone, instrument.Trumpet]"
   ]
  },
  {
   "cell_type": "markdown",
   "metadata": {},
   "source": [
    "## Part 1: Import Dataset and Split"
   ]
  },
  {
   "cell_type": "code",
   "execution_count": 141,
   "metadata": {
    "tags": []
   },
   "outputs": [],
   "source": [
    "# given the name of a midi file, returns a 2D array of notes per instrument\n",
    "def import_midi(midi_file):    \n",
    "    \n",
    "    # parse midi file\n",
    "    midi = converter.parse(midi_file)\n",
    "  \n",
    "    # seperate based on instrument\n",
    "    midi_parts = instrument.partitionByInstrument(midi)\n",
    "\n",
    "    notes = {}\n",
    "    notes_to_parse = []\n",
    "\n",
    "    for part in midi_parts.parts:\n",
    "        # only use instruments we want\n",
    "        if any(isinstance(part.getInstrument(), x) for x in INSTRUMENTS):\n",
    "            notes[str(part.getInstrument().bestName())] = []\n",
    "            notes_to_parse = part.recurse()\n",
    "\n",
    "            # finding whether a particular element is note or a chord\n",
    "            for element in notes_to_parse: \n",
    "                #note\n",
    "                if isinstance(element, note.Note):\n",
    "                    notes[str(part.getInstrument().bestName())].append(str(element.pitch))\n",
    "                \n",
    "                #chord\n",
    "                elif isinstance(element, chord.Chord):\n",
    "                    notes[str(part.getInstrument().bestName())].append('.'.join(str(n) for n in element.normalOrder))\n",
    "\n",
    "    # remove any empty\n",
    "    notes = {k: v for k, v in notes.items() if v}\n",
    "\n",
    "    return notes"
   ]
  },
  {
   "cell_type": "code",
   "execution_count": 142,
   "metadata": {},
   "outputs": [
    {
     "output_type": "stream",
     "name": "stdout",
     "text": [
      "{'Acoustic Bass': ['E-2', 'B-2', 'C#3', 'E-3', 'C#3', 'B-2', 'D2', 'F2', 'A2', 'B2', 'A2', 'D2', 'E-2', 'B-2', 'C#3', 'E-3', 'C#3', 'B-2', 'D2', 'F2', 'A2', 'B2', 'A2', 'D2', 'E-2', 'B-2', 'C#3', 'E-3', 'C#3', 'B-2', 'D2', 'F2', 'A2', 'B2', 'A2', 'E2', 'D3', 'E2', 'A2', 'D2', 'C#3', 'B2', 'E-2', 'B-2', 'C#3', 'E-3', 'C#3', 'B-2', 'D2', 'F2', 'A2', 'B2', 'A2', 'D2', 'E-2', 'B-2', 'C#3', 'E-3', 'C#3', 'B-2', 'D2', 'F2', 'A2', 'B2', 'A2', 'D2', 'E-2', 'B-2', 'C#3', 'E-3', 'C#3', 'B-2', 'D2', 'F2', 'A2', 'B2', 'A2', 'E2', 'D3', 'E2', 'A2', 'D2', 'C#3', 'B2', 'E-2', 'B-2', 'E-3', 'B-2', 'E-2', 'D2', 'D1', 'E2', 'F2', 'A2', 'D2', 'E-2', 'E-1', 'C#2', 'C2', 'B-1', 'E-2', 'D2', 'E2', 'F2', 'A2', 'D2', 'E-2', 'E-1', 'C#2', 'C2', 'B-1', 'E-2', 'D2', 'E2', 'F2', 'A2', 'G#2', 'G2', 'G1', 'B-1', 'A1', 'A0', 'A1', 'D2', 'D1', 'E2', 'F2', 'A2', 'D2', 'E-2', 'C#2', 'C2', 'B-1', 'E-2', 'D2', 'E2', 'F2', 'A2', 'D2', 'E-2', 'F2', 'F#2', 'G2', 'E-2', 'D2', 'E2', 'F2', 'A2', 'E-2', 'F2', 'F#2', 'G2', 'E-2', 'D2', 'E2', 'F2', 'A2', 'G#2', 'G2', 'G1', 'G2', 'A1', 'A0', 'A1', 'D2', 'A2', 'D3', 'A2', 'D2', 'A1', 'A0', 'G1', 'F1', 'E-1', 'E-2', 'D2', 'E2', 'F#2', 'A2', 'G2', 'D3', 'D2', 'A2', 'G2', 'D3', 'G2', 'G1', 'B1', 'B-1', 'F1', 'C2', 'C#2', 'F1', 'F2', 'F1', 'C2', 'G1', 'D2', 'E2', 'G1', 'G2', 'G1', 'F2', 'F1', 'F2', 'F2', 'F1', 'F2', 'E2', 'E1', 'A1', 'E-2', 'E-1', 'C#2', 'C2', 'B-1', 'E-2', 'D2', 'D1', 'E2', 'F2', 'A2', 'D2', 'E-2', 'B-2', 'E-3', 'B-2', 'E-2', 'D2', 'E2', 'F2', 'A2', 'D2', 'E-2', 'F2', 'F#2', 'G2', 'E-2', 'D2', 'E2', 'F2', 'A2', 'G#2', 'G2', 'G2', 'B-1', 'A1', 'A1', 'E-2', 'D2', 'E2', 'F2', 'A2', 'D2', 'E2', 'B1', 'E3', 'B2', 'B1', 'A2', 'G2', 'A2', 'B1', 'B2', 'B1', 'E-2', 'F2', 'G2', 'B-2', 'E-3', 'C#3', 'C3', 'B-2', 'D2', 'C2', 'B1', 'A1', 'D2', 'E2', 'F2', 'F2', 'G3', 'B2', 'C3', 'C#3', 'D3', 'E3', 'F3', 'G3', 'G3', 'G2', 'B-2', 'D3', 'G2', 'D2', 'A2', 'B-2', 'D2', 'D3', 'D2', 'F#2', 'G#2', 'B-2', 'C#3', 'F#3', 'C#3', 'B-2', 'F#2', 'F3', 'A2', 'B-2', 'B2', 'C3', 'D3', 'E-3', 'F3', 'B-1', 'B-1', 'E2', 'E-2', 'E-1', 'E-2', 'D2', 'D1', 'D2', 'D1', 'D2', 'D2', 'E-2', 'D2', 'D1', 'E2', 'E-2', 'E-1', 'E-2', 'D2', 'E2', 'F2', 'A2', 'D2', 'E-2', 'C#2', 'C2', 'B-1', 'E-2', 'D2', 'E-2', 'D2', 'F2', 'F1', 'E2', 'E1', 'B-1', 'A1', 'A1', 'D2', 'E2', 'F2', 'A2', 'B-1', 'E-2', 'B-1', 'E-2', 'E-1', 'D2', 'D1', 'E2', 'F2', 'A2', 'D2', 'B-1', 'B-0', 'E2', 'E-2', 'G2', 'E-2', 'D2', 'E2', 'F2', 'A2', 'D2', 'B-1', 'B-1', 'E-2', 'G2', 'E-2', 'D2', 'E2', 'F2', 'A2', 'D2', 'G2', 'G2', 'B-1', 'A1', 'A1', 'D2', 'D1', 'E2', 'F2', 'A2', 'D2', 'A1', 'E-1', 'B1', 'C2', 'E-1', 'E-2', 'E-1', 'D2', 'D1', 'E-2', 'D3', 'A2', 'G2', 'G1', 'G2', 'D2', 'D1', 'G#2', 'G2', 'G1', 'G#2', 'G2', 'D3', 'B-1', 'B-1', 'F2', 'D2', 'D2', 'C#2', 'C#1', 'C3', 'G2', 'F#2', 'F2', 'C3', 'A2', 'F2', 'E2', 'A1', 'A1', 'A1', 'A1', 'B-1', 'B-0', 'B-1', 'E-2', 'E-2', 'E-2', 'D2', 'E2', 'F2', 'A2', 'D2', 'E-2', 'C#2', 'C2', 'B-1', 'E-2', 'D2', 'E2', 'F2', 'A2', 'D2', 'E-2', 'F2', 'F#2', 'G2', 'E-2', 'D2', 'F2', 'D2', 'E-2', 'E-1', 'F2', 'E2', 'E2', 'B-1', 'A1', 'A0', 'E-2', 'D2', 'D1', 'D2', 'D2', 'D1', 'D2', 'D2', 'F2', 'G2', 'G#2', 'A2', 'C3', 'D3', 'D2'], 'Piano': ['7.10.1.3', '4.5.9', 'C#4', '3.7.10', '9.1.4.5', '3.7.10', 'C#4', '9.1.4.5', '9.10.2.4', '3.7', 'B-3', '9.1.4', '4.5.9.11', '5.9.11', '7.10.1.3', '0.1.5.7', '9.1.4.5', '0.1.5.7', '9.1.4.5', '7.10.1.3', '5.7.10.1', '9.1.4.5', 'G2', '2.4.7.10', '5.7.10.1', '1.2.5.9', '9.1.4.5', '7.10.1.3', '7.10.1.3', '9.1.4.5', '5.7.10.1', '7.10.1.3', '9.1.4.5', '7.10.1.3', '9.1.4.5', 'G2', '2.4.7.10', '5.7.10.1', '9.1.4.5', '7.9.0.3', '0.3.6.9', '2.4.7.10', '0.3.6.9', '2.6.9.10', '2.4.7.10', '5.7.10.1', '8.10.1.4', '4.7.9.0', '0.3.5.8', '1.4.7.10', '1.4.7.10', '7.10.1.3', '1.2.5.9', '9.1.4.5', '5.7.10.1', '9.1.4.5', '0.1.5.7', '0.1.5.7', 'E-3', '0.1.5.7', '9.1.4.5', 'B-4', '2.4.7', '1.4.7.10', '1.2.5.9', '11.2.4.7', '11.2.4.7', '7.10.1.3', '5.7.10.1', '4.5.9.0', '9.11.1.5', '4.5.9.11', '4.5.9.11', '2.6.9.10', '2.5.7.10', '9.10.1.4', '9.10.1.4', '9.10.1.4', '2.3.7.9', '2.3.7.9', '0.1.5.8', '5.9.0.1', '9.1.4.5', '9.11.2.5', 'A4', '9.11.2.5', '5.9.0.1', '0.1.5.7', '11.0.4.5', '11.0.4.7', '0.1.3.7', 'A4', 'B-4', '0.1.3.7', '11.0.4.7', '11.0.4.7', '7.8.0.3', '11.2.4.7', 'E4', '1.4.7.10', 'E4', '9.1.4.5', '1.2.5.9', '5.8.10.1', '0.1.5.8', '11.0.4.5', '11.0.4.7', '0.1.5.8', '0.1.5.7', '9.11.2.5', '0.1.5.8', '9.10.1.5', '9.1.4.5', 'D3', '9.1.4.5', '5.7.10.1', '9.1.4.5', '0.3.6.9', '0.3.6.9', '4.6.9.0', '2.4.7.10', '0.3.6.9', '2.4.7.10', 'G4', '6.7.10.2', 'G4', '5.7.10.1', '11.0.4.6', '10.11.3.5', '9.10.2.4', '3.4.8.10', '2.3.7.9', '2.3.7.9', '1.4.7.10', '1.4.7.10', 'E4', '0.1.5.8', '5.9.0.1', '1.2.5.9', '9.10.1.5', '11.0.4.7', '5.9.0.1', '5.7.10.1', 'D3', '11.0.4.7', '5.9.0.1', '1.4.7.10', '1.4.7.10', '9.1.4.5', '1.5.9', '1.2.5.9', '9.1.4.5', '1.2.5.9'], 'Trumpet': ['A3', 'B-3', 'C#4', 'F4', 'C5', 'B-4', 'F4', 'G#4', 'A4', 'A3', 'B-3', 'C#4', 'F4', 'C5', 'B-4', 'F4', 'A4', 'A3', 'B-3', 'C#4', 'F4', 'C5', 'B-4', 'F4', 'G#4', 'A4', 'A4', 'B-4', 'A4', 'G4', 'E-4', 'C#4', 'D4', 'A3', 'B-3', 'C#4', 'F4', 'C5', 'B-4', 'F4', 'G#4', 'A4', 'A3', 'B-3', 'C#4', 'F4', 'C5', 'B-4', 'E5', 'C#5', 'A3', 'B-3', 'C#4', 'F4', 'C5', 'B-4', 'F4', 'G#4', 'A4', 'A4', 'B-4', 'A4', 'B-4', 'A4', 'G4', 'E-4', 'C#4', 'D4', 'A3', 'B-3', 'C#4', 'F4', 'C5', 'B-4', 'F4', 'G#4', 'A4', 'A3', 'B-3', 'C#4', 'F4', 'C5', 'B-4', 'F4', 'A4', 'A3', 'B-3', 'C#4', 'F4', 'C5', 'B-4', 'F4', 'G#4', 'A4', 'A4', 'B-4', 'A4', 'B-4', 'A4', 'G4', 'E-4', 'C#4', 'D4', 'A4', 'G4', 'E-4', 'A4', 'G4', 'E-4', 'A4', 'G4', 'E-4', 'A4', 'A4', 'F4', 'C#4', 'A4', 'F4', 'C#4', 'A4', 'F4', 'C#4', 'A4', 'A4', 'E4', 'C#4', 'A4', 'E4', 'C#4', 'A4', 'E4', 'C#4', 'A4', 'A4', 'C#5', 'A4', 'C5', 'F5', 'A5', 'C6', 'B-5', 'A5', 'G5', 'F5', 'E5', 'F5', 'E5', 'D5', 'C5', 'B4', 'B-4', 'A4', 'G4', 'E-4', 'F4', 'D4', 'E-4', 'F4', 'G4', 'A4', 'B-4', 'G#4', 'A4', 'E5', 'C#5', 'E-5', 'E-5', 'C#5', 'E-5', 'C#5', 'E5', 'B4', 'C4', 'C#4', 'F4', 'G#4', 'C5', 'B-4', 'A4', 'E-5', 'C#5', 'A4', 'D5', 'E5', 'B4', 'A5', 'D6', 'C#6', 'D6', 'C6', '9.11', '5.7', '2.4', '11.0', '7.9', 'F4', 'E4', 'D4', 'C4', 'C6', 'A5', 'D6', 'C6', 'G5', 'B-5', 'C6', 'E-6', 'D6', 'C6', 'B-5', 'G5', 'A5', 'B-5', 'G5', 'A5', 'B-5', 'C6', 'C6', 'C6', 'G#5', 'A5', 'G#5', 'G5', 'F5', 'E5', 'D5', 'C5', 'B4', 'B-4', 'A4', 'G4', 'F4', 'E4', 'G4', 'B-4', 'D5', 'A4', 'C5', 'G4', 'B-4', 'D4', 'G4', 'B-4', 'A4', 'G#4', 'G4', 'F4', 'E4', 'F4', 'G4', 'E4', 'F4', 'G4', 'A4', 'B-4', 'C5', 'A4', 'B-4', 'G#4', 'A4', 'F4', 'E4', 'F4', 'G4', 'F4', 'E4', 'D4', 'C#4', 'E4', 'G4', 'B-4', 'A4', 'B-4', 'A4', 'G4', 'E-4', 'C4', 'D4', 'F4', 'G#4', 'C5', 'A4', 'B-4', 'E5', 'C#5', 'B-5', 'C6', 'C6', 'C6', 'B-5', 'C6', 'C6', 'C6', 'B-5', 'C6', 'C6', 'C6', 'B-5', 'C6', 'C6', 'C6', 'B-5', 'B5', 'B5', 'B5', 'A5', 'B5', 'B5', 'B5', 'A5', 'B5', 'B5', 'B5', 'A5', 'B5', 'B5', 'B5', 'A5', 'B-5', 'A5', 'F5', 'G#5', 'G5', 'F5', 'E-5', 'F5', 'E5', 'C#5', 'A4', 'C5', 'B-4', 'A4', 'B-4', 'A4', 'G4', 'E4', 'D4', 'E-4', 'E5', 'B-4', 'D5', 'A4', 'F4', 'D4', 'G4', 'F4', 'C#6'], 'Soprano Saxophone': ['A3', 'C4', 'A3', 'G3', 'F#3', 'E-4', 'C#4', 'D4', 'C4', 'A3', 'B-3', 'G3', 'F#3', 'A3', 'F#3', 'G3', 'A3', 'E3', 'A3', 'B-3', 'A3', 'B-3', 'G3', 'G#3', 'G3', 'F3', 'E3', 'C#4', 'E-4', 'C#4', 'B3', 'C4', 'B-3', 'G#3', 'A3', 'F3', 'G3', 'G#3', 'G3', 'F3', 'G3', 'G#3', 'G3', 'F3', 'E3', 'A3', 'A3', 'A3', 'G3', 'E3', 'A3', 'G3', 'E3', 'A3', 'G3', 'E3', 'A3', 'A3', 'F3', 'D3', 'A3', 'F3', 'D3', 'A3', 'F3', 'D3', 'A3', 'A3', 'F#3', 'D3', 'A3', 'F#3', 'D3', 'A3', 'F#3', 'D3', 'A3', 'A2', 'B-2', 'C#3', 'F3', 'C4', 'C#4', 'B-3', 'C4', 'C4', 'D4', 'B-3', 'A3', 'G3', 'E3', 'D3', 'E-3', 'C#3', 'D3', 'C#4', 'E-4', 'C#4', 'C4', 'C#4', 'C4', 'B3', 'D4', 'C#4', 'C4', 'B3', 'B-3', 'A3', 'G#3', 'G3', 'F#3', 'E-3', 'C#3', 'E4', 'D4', 'C4', 'C#4', 'C4', 'B3', 'A3', 'G#3', 'G3', 'F#3', 'F3', 'C3']}\n"
     ]
    }
   ],
   "source": [
    "print(import_midi('a_night_in_tunisia_2_jc.mid'))"
   ]
  },
  {
   "source": [
    "## Part 2: Data Analysis"
   ],
   "cell_type": "markdown",
   "metadata": {}
  },
  {
   "cell_type": "code",
   "execution_count": null,
   "metadata": {},
   "outputs": [],
   "source": [
    "# graph distribution of all images\n",
    "\n",
    "# graph distribution of train images\n",
    "\n",
    "# graph distribution of test images"
   ]
  },
  {
   "cell_type": "markdown",
   "metadata": {},
   "source": [
    "## Part 3: Normalize Dataset"
   ]
  },
  {
   "cell_type": "code",
   "execution_count": null,
   "metadata": {},
   "outputs": [],
   "source": []
  },
  {
   "cell_type": "markdown",
   "metadata": {},
   "source": [
    "## Part 3: Train GAN With Magenta/Wavenet"
   ]
  },
  {
   "cell_type": "code",
   "execution_count": null,
   "metadata": {},
   "outputs": [],
   "source": []
  },
  {
   "cell_type": "markdown",
   "metadata": {},
   "source": [
    "## Part 4: Train TensorFlow Models"
   ]
  },
  {
   "cell_type": "code",
   "execution_count": null,
   "metadata": {},
   "outputs": [],
   "source": []
  },
  {
   "cell_type": "markdown",
   "metadata": {},
   "source": [
    "## Part 5: Compare Results"
   ]
  },
  {
   "cell_type": "code",
   "execution_count": null,
   "metadata": {},
   "outputs": [],
   "source": []
  },
  {
   "source": [
    "## Sources"
   ],
   "cell_type": "markdown",
   "metadata": {}
  },
  {
   "source": [
    "https://www.analyticsvidhya.com/blog/2020/01/how-to-perform-automatic-music-generation/"
   ],
   "cell_type": "markdown",
   "metadata": {}
  }
 ],
 "metadata": {
  "kernelspec": {
   "display_name": "Python 3",
   "language": "python",
   "name": "python3"
  },
  "language_info": {
   "codemirror_mode": {
    "name": "ipython",
    "version": 3
   },
   "file_extension": ".py",
   "mimetype": "text/x-python",
   "name": "python",
   "nbconvert_exporter": "python",
   "pygments_lexer": "ipython3",
   "version": "3.7.6-final"
  }
 },
 "nbformat": 4,
 "nbformat_minor": 4
}